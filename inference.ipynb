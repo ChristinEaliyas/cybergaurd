{
 "cells": [
  {
   "cell_type": "code",
   "execution_count": null,
   "metadata": {},
   "outputs": [],
   "source": [
    "from transformers import BertTokenizer, BertForSequenceClassification\n",
    "import torch\n",
    "\n",
    "model_checkpoint_path = \"crime-classification-model\"\n",
    "tokenizer = BertTokenizer.from_pretrained(model_checkpoint_path)\n",
    "model = BertForSequenceClassification.from_pretrained(model_checkpoint_path)\n",
    "categories = {0: 'Cyber Bullying  Stalking  Sexting',\n",
    " 1: 'Fraud CallVishing',\n",
    " 2: 'Online Gambling  Betting',\n",
    " 3: 'Online Job Fraud',\n",
    " 4: 'UPI Related Frauds',\n",
    " 5: 'Internet Banking Related Fraud',\n",
    " 6: 'Other',\n",
    " 7: 'Profile Hacking Identity Theft',\n",
    " 8: 'DebitCredit Card FraudSim Swap Fraud',\n",
    " 9: 'EWallet Related Fraud',\n",
    " 10: 'Data Breach/Theft',\n",
    " 11: 'Denial of Service (DoS)/Distributed Denial of Service (DDOS) attacks',\n",
    " 12: 'FakeImpersonating Profile',\n",
    " 13: 'Cryptocurrency Fraud',\n",
    " 14: 'Malware Attack',\n",
    " 15: 'Business Email CompromiseEmail Takeover',\n",
    " 16: 'Email Hacking',\n",
    " 17: 'Cheating by Impersonation',\n",
    " 18: 'Hacking/Defacement',\n",
    " 19: 'Unauthorised AccessData Breach',\n",
    " 20: 'SQL Injection',\n",
    " 21: 'Provocative Speech for unlawful acts',\n",
    " 22: 'Ransomware Attack',\n",
    " 23: 'Cyber Terrorism',\n",
    " 24: 'Tampering with computer source documents',\n",
    " 25: 'DematDepository Fraud',\n",
    " 26: 'Online Trafficking',\n",
    " 27: 'Online Matrimonial Fraud',\n",
    " 28: 'Website DefacementHacking',\n",
    " 29: 'Damage to computer computer systems etc',\n",
    " 30: 'Impersonating Email',\n",
    " 31: 'EMail Phishing',\n",
    " 32: 'Ransomware',\n",
    " 33: 'Intimidating Email',\n",
    " 34: 'Against Interest of sovereignty or integrity of India'}\n",
    "model.eval()\n",
    "\n",
    "input_text = \"the issue actually started when i got this email , which at first glance seemed like spam . i usually ignore such things , but for some reason , i opened it this time . afterward , my phone started freezing , and it was not normal . i thought it was a technical glitch , but now i am not so sure . honestly , it is such a mess , and i do not even know where to start . i have contacted support , but they keep giving me the runaround . the more i tried to fix it , the more problems came up . my email was stange , and then i got locked out of everything . this has really left me anxious and frustrated , i cannot sleep knowing my information is out there . i have even considered deleting all my accounts , but that is not a solution . even my tablet is not working right anymore . it is so stange how everything just fell apart after that one email .\"\n",
    "\n",
    "inputs = tokenizer(input_text, return_tensors=\"pt\", truncation=True, padding=True, max_length=512)\n",
    "\n",
    "with torch.no_grad():\n",
    "    outputs = model(**inputs)\n",
    "    logits = outputs.logits\n",
    "\n",
    "probs = torch.softmax(logits, dim=1)\n",
    "predicted_class = torch.argmax(probs, dim=1).item()\n",
    "\n",
    "print(f\"Predicted class: {categories[predicted_class]}\")\n"
   ]
  }
 ],
 "metadata": {
  "kernelspec": {
   "display_name": "env",
   "language": "python",
   "name": "python3"
  },
  "language_info": {
   "codemirror_mode": {
    "name": "ipython",
    "version": 3
   },
   "file_extension": ".py",
   "mimetype": "text/x-python",
   "name": "python",
   "nbconvert_exporter": "python",
   "pygments_lexer": "ipython3",
   "version": "3.10.12"
  }
 },
 "nbformat": 4,
 "nbformat_minor": 2
}
